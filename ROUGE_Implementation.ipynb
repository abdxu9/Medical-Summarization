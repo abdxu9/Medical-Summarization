{
 "cells": [
  {
   "cell_type": "markdown",
   "id": "a9b189f0-d3a8-40ff-92c1-389265034b7a",
   "metadata": {},
   "source": [
    "## ROUGE 1 "
   ]
  },
  {
   "cell_type": "code",
   "execution_count": 1,
   "id": "ccd1f192-6375-4a1d-bfa0-89db42796a7a",
   "metadata": {},
   "outputs": [],
   "source": [
    "import string \n",
    "def normalization_unigram(txt):\n",
    "    return txt.lower().translate(str.maketrans('', '', string.punctuation)).split()\n",
    "    "
   ]
  },
  {
   "cell_type": "code",
   "execution_count": 2,
   "id": "1b9178ec-8c1a-428f-a0d3-4471e534cac6",
   "metadata": {},
   "outputs": [],
   "source": [
    "def count(txt, txt_dic):\n",
    "    for unigram in txt:\n",
    "        if unigram in txt_dic:\n",
    "            txt_dic[unigram] += 1\n",
    "        else:\n",
    "            txt_dic[unigram] = 1\n",
    "    return txt_dic"
   ]
  },
  {
   "cell_type": "code",
   "execution_count": 3,
   "id": "cbee5c13-ac7e-419d-828c-e6734dc471c5",
   "metadata": {},
   "outputs": [],
   "source": [
    "def rouge(ref_dic, gen_dic):\n",
    "    overlap = 0\n",
    "    for key in gen_dic:\n",
    "        if key in ref_dic:\n",
    "             overlap += min(ref_dic[key], gen_dic[key])\n",
    "    total_ref_unigram = sum(ref_dic.values())\n",
    "    total_gen_unigram = sum(gen_dic.values())\n",
    "\n",
    "    precision = overlap / total_gen_unigram if total_gen_unigram > 0 else 0.0\n",
    "    recall = overlap / total_ref_unigram if total_ref_unigram > 0 else 0.0\n",
    "    print(f'precision: {precision}')\n",
    "    if precision + recall > 0:\n",
    "        f1_score = (2 * precision * recall) / (precision + recall)\n",
    "    else:\n",
    "        f1_score = 0.0\n",
    "    return {'precision': precision, 'recall': recall, 'f1_score': f1_score}"
   ]
  },
  {
   "cell_type": "code",
   "execution_count": 4,
   "id": "79e2dda6-ac06-4e89-84e4-189a35da0a1b",
   "metadata": {},
   "outputs": [],
   "source": [
    "ref_summary = \"The quick brown fox jumps over the lazy dog.\"\n",
    "gen_summary = \"A fennec jumps on a slumbering canine.\"\n",
    "\n",
    "ref_dic = {}\n",
    "gen_dic = {}"
   ]
  },
  {
   "cell_type": "code",
   "execution_count": 5,
   "id": "4523a186-c97f-42a7-b774-fb116c63b246",
   "metadata": {},
   "outputs": [],
   "source": [
    "ref_summary = normalization_unigram(ref_summary)\n",
    "gen_summary = normalization_unigram(gen_summary)"
   ]
  },
  {
   "cell_type": "code",
   "execution_count": 6,
   "id": "d7ddae45-ce7d-470f-baf6-c0fa77eda8c8",
   "metadata": {},
   "outputs": [],
   "source": [
    "ref_dic = count(ref_summary, ref_dic)\n",
    "gen_dic = count(gen_summary, gen_dic)\n"
   ]
  },
  {
   "cell_type": "code",
   "execution_count": 7,
   "id": "bb24caa5-a67b-4c95-b9e1-b6b1d4935b8d",
   "metadata": {},
   "outputs": [
    {
     "name": "stdout",
     "output_type": "stream",
     "text": [
      "precision: 0.14285714285714285\n",
      "{'precision': 0.14285714285714285, 'recall': 0.1111111111111111, 'f1_score': 0.125}\n"
     ]
    }
   ],
   "source": [
    "overlap = rouge(ref_dic, gen_dic)\n",
    "print(overlap)"
   ]
  },
  {
   "cell_type": "markdown",
   "id": "3f6ceea7-404b-4b96-99c2-fb731f7b94c0",
   "metadata": {},
   "source": [
    "## ROUGE-2"
   ]
  },
  {
   "cell_type": "code",
   "execution_count": 8,
   "id": "3fd6c512-365f-4fd5-bfd2-9e4b329d8aa2",
   "metadata": {},
   "outputs": [],
   "source": [
    "import string \n",
    "def normalization_bigram(txt):\n",
    "    txt = txt.lower().translate(str.maketrans('', '', string.punctuation)).split()\n",
    "    return list(zip(txt[:-1],txt[1:]))"
   ]
  },
  {
   "cell_type": "code",
   "execution_count": 9,
   "id": "9d8bf608-8dc8-4d2e-a93d-b8bbebf570fc",
   "metadata": {},
   "outputs": [],
   "source": [
    "ref_summary = \"The quick brown fox jumps over the lazy dog.\"\n",
    "gen_summary = \"A fennec jumps on a slumbering canine.\"\n",
    "\n",
    "ref_dic = {}\n",
    "gen_dic = {}"
   ]
  },
  {
   "cell_type": "code",
   "execution_count": 10,
   "id": "eb72531f-b597-4549-8c11-34a8d54d95e2",
   "metadata": {},
   "outputs": [],
   "source": [
    "ref_summary = normalization_bigram(ref_summary)\n",
    "gen_summary = normalization_bigram(gen_summary)"
   ]
  },
  {
   "cell_type": "code",
   "execution_count": 11,
   "id": "929a8c8b-8ce4-4f1f-82d5-f500d73335dc",
   "metadata": {},
   "outputs": [
    {
     "name": "stdout",
     "output_type": "stream",
     "text": [
      "[('the', 'quick'), ('quick', 'brown'), ('brown', 'fox'), ('fox', 'jumps'), ('jumps', 'over'), ('over', 'the'), ('the', 'lazy'), ('lazy', 'dog')]\n",
      "[('a', 'fennec'), ('fennec', 'jumps'), ('jumps', 'on'), ('on', 'a'), ('a', 'slumbering'), ('slumbering', 'canine')]\n"
     ]
    }
   ],
   "source": [
    "print(ref_summary)\n",
    "print(gen_summary)"
   ]
  },
  {
   "cell_type": "code",
   "execution_count": 12,
   "id": "e09c6b76-82ba-4549-8b5e-b38271a8f528",
   "metadata": {},
   "outputs": [],
   "source": [
    "ref_dic = count(ref_summary, ref_dic)\n",
    "gen_dic = count(gen_summary, gen_dic)"
   ]
  },
  {
   "cell_type": "code",
   "execution_count": 13,
   "id": "08634ced-7150-498e-b4d3-725b6125faaf",
   "metadata": {},
   "outputs": [
    {
     "name": "stdout",
     "output_type": "stream",
     "text": [
      "precision: 0.0\n",
      "{'precision': 0.0, 'recall': 0.0, 'f1_score': 0}\n"
     ]
    }
   ],
   "source": [
    "overlap = rouge(ref_dic, gen_dic)\n",
    "print(overlap)"
   ]
  },
  {
   "cell_type": "code",
   "execution_count": null,
   "id": "d2f2135f-f105-47d5-a4ed-95883017de72",
   "metadata": {},
   "outputs": [],
   "source": []
  }
 ],
 "metadata": {
  "kernelspec": {
   "display_name": "flashP312",
   "language": "python",
   "name": "flashp312"
  },
  "language_info": {
   "codemirror_mode": {
    "name": "ipython",
    "version": 3
   },
   "file_extension": ".py",
   "mimetype": "text/x-python",
   "name": "python",
   "nbconvert_exporter": "python",
   "pygments_lexer": "ipython3",
   "version": "3.12.9"
  }
 },
 "nbformat": 4,
 "nbformat_minor": 5
}
